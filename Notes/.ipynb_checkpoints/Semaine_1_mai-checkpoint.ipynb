{
 "cells": [
  {
   "cell_type": "markdown",
   "id": "9ea6182e-b462-4f94-99e5-535df3a81b5a",
   "metadata": {},
   "source": [
    "# Integrals des courbes de remplissage colonne sans mousse et avec de l'eau pure"
   ]
  },
  {
   "cell_type": "code",
   "execution_count": 1,
   "id": "9f9be32a-d8a3-464c-bbc7-85586f4b4700",
   "metadata": {},
   "outputs": [],
   "source": [
    "import numpy as np\n",
    "import pandas as pd\n",
    "import matplotlib.pyplot as plt"
   ]
  },
  {
   "cell_type": "code",
   "execution_count": 2,
   "id": "5156f218-0fc3-44df-b30e-42bced5cedae",
   "metadata": {},
   "outputs": [],
   "source": [
    "file_path_eau='/home/ruben/M2-THESE-RUBEN-LIPHY/Test_eau_pure/test_colonne_3D_eau_pure_remplissage_8_co2.csv'\n",
    "file_path_sans_mousse='/home/ruben/M2-THESE-RUBEN-LIPHY/test_colonne_sans_mousse_remplissage_8_co2.csv'"
   ]
  },
  {
   "cell_type": "markdown",
   "id": "586d11c0-1d24-4d5f-831d-193a6a0b8ecb",
   "metadata": {},
   "source": [
    "Débit constant en ml/s:"
   ]
  },
  {
   "cell_type": "code",
   "execution_count": 4,
   "id": "bef49859-3673-45c1-8e37-3e1ca0383a2d",
   "metadata": {},
   "outputs": [],
   "source": [
    "Q=80/60"
   ]
  },
  {
   "cell_type": "markdown",
   "id": "e7b68707-37f4-4b9d-b152-f824b3618964",
   "metadata": {},
   "source": [
    "Data colonne sans mousse et sans liquide:"
   ]
  },
  {
   "cell_type": "code",
   "execution_count": 5,
   "id": "b0c6eebb-6928-4b59-bbcc-043c089fcefe",
   "metadata": {},
   "outputs": [],
   "source": [
    "db_sans_mousse=pd.read_csv(file_path_sans_mousse)\n",
    "x1=db_sans_mousse.index*Q/2 \n",
    "y1=(db_sans_mousse['Media value concentration']/100)*100/(db_sans_mousse['Media value concentration'].max()/100)"
   ]
  },
  {
   "cell_type": "markdown",
   "id": "0fc9b6c2-89ec-4a02-95da-ffc508d73851",
   "metadata": {},
   "source": [
    "Data colonne avec de l'eau pure:"
   ]
  },
  {
   "cell_type": "code",
   "execution_count": 6,
   "id": "64d1a974-f008-49a1-bc08-00d8c9e0f7f2",
   "metadata": {},
   "outputs": [],
   "source": [
    "db_eau=pd.read_csv(file_path_eau)\n",
    "x2=db_eau.index*Q/2\n",
    "y2=(db_eau['Media value concentration']/100)*100/(db_eau['Media value concentration'].max()/100)"
   ]
  },
  {
   "cell_type": "markdown",
   "id": "dcb91d60-5e73-4824-88a8-5a0400510129",
   "metadata": {},
   "source": [
    "Pour faite l'integration, on definit les limites de l'integral en x, on prend comme reference la courbe sans mousse et sans liquide:"
   ]
  },
  {
   "cell_type": "code",
   "execution_count": 7,
   "id": "d44eb782-ba56-4443-9c2f-d7404e1fc72b",
   "metadata": {},
   "outputs": [],
   "source": [
    "x_target=x1.max()"
   ]
  },
  {
   "cell_type": "markdown",
   "id": "ef55f7a8-96d2-4b00-96c3-c636b9b21f2f",
   "metadata": {},
   "source": [
    "On calcule les nouveaux limites dans la courbe avec de l'eau pure jusqu'au ce target:"
   ]
  },
  {
   "cell_type": "code",
   "execution_count": 10,
   "id": "676250b5-d09a-40d2-9394-74cb93a62024",
   "metadata": {},
   "outputs": [],
   "source": [
    "x2_new=x2[x2<x_target]\n",
    "y2_new=y2[:len(x2_new)]"
   ]
  },
  {
   "cell_type": "markdown",
   "id": "4b0f9e41-79eb-43cf-9179-b174e43c25fa",
   "metadata": {},
   "source": [
    "On calcule les integrals:"
   ]
  },
  {
   "cell_type": "code",
   "execution_count": 11,
   "id": "9f94a206-99d2-45d2-a1cb-a70cb8f27423",
   "metadata": {},
   "outputs": [],
   "source": [
    "integral=np.trapz(y1,x=x1)\n",
    "integral_2=np.trapz(y2_new, x=x2_new)"
   ]
  },
  {
   "cell_type": "code",
   "execution_count": 12,
   "id": "7dd5717f-7ae6-4a2c-b4ea-fc753f36a583",
   "metadata": {},
   "outputs": [
    {
     "name": "stdout",
     "output_type": "stream",
     "text": [
      "Integral au dessous de la courbe de remplissage sans mousse est:  1223161.8571476182\n"
     ]
    }
   ],
   "source": [
    "print('Integral au dessous de la courbe de remplissage sans mousse est: ', integral)"
   ]
  },
  {
   "cell_type": "code",
   "execution_count": 16,
   "id": "32d26ac0-adb9-4f2c-8236-576225593e64",
   "metadata": {},
   "outputs": [
    {
     "name": "stdout",
     "output_type": "stream",
     "text": [
      "Integral au dessous de la courbe de remplissage liquide sans surfactant est:  1141745.2859591707\n"
     ]
    }
   ],
   "source": [
    "print('Integral au dessous de la courbe de remplissage liquide sans surfactant est: ', integral_2)"
   ]
  },
  {
   "cell_type": "code",
   "execution_count": 17,
   "id": "8104ead0-b449-44ba-9f15-0ad3a389407f",
   "metadata": {},
   "outputs": [],
   "source": [
    "integral_diff=integral-integral_2"
   ]
  },
  {
   "cell_type": "code",
   "execution_count": 18,
   "id": "48a2ec36-1344-4f41-b812-5348744a7dc8",
   "metadata": {},
   "outputs": [
    {
     "name": "stdout",
     "output_type": "stream",
     "text": [
      "The difference of the integrals are:  81416.57118844753\n"
     ]
    }
   ],
   "source": [
    "print('The difference of the integrals are: ', integral_diff)"
   ]
  },
  {
   "cell_type": "markdown",
   "id": "05431a83-6056-426a-a6db-d87a2088cfc4",
   "metadata": {},
   "source": [
    "On fait le plot des differences des integrals"
   ]
  },
  {
   "cell_type": "code",
   "execution_count": null,
   "id": "6c90b3f9-de99-4f7b-abf9-4348aa1be35f",
   "metadata": {},
   "outputs": [],
   "source": [
    "plt.fill_between(x2_new, y2_new, y1[:len(x2_new)], where=(y1[:len(x2_new)] >=y2_new), color='blue', alpha=0.3)\n",
    "plt.fill_between(x2_new, y2_new, y1[:len(x2_new)], where=(y1[:len(x2_new)] < y2_new), color='blue', alpha=0.3)\n",
    "plt.scatter(x1, y1, label='Test 80 ml/min CO2 remplissage sans mousse', marker='o', s=1)\n",
    "plt.scatter(x2, y2, label='Test 80 ml/min CO2 remplissage liquide sans surfactant', marker='o', s=1)\n",
    "plt.xlabel('V=Qt', fontsize=20)\n",
    "plt.ylabel('Concentration CO$_2$ %', fontsize=20)\n",
    "plt.legend(loc='lower right', fontsize='small',markerscale=10)\n",
    "plt.xticks(fontsize=20)\n",
    "plt.yticks(fontsize=20)\n",
    "plt.show()"
   ]
  },
  {
   "cell_type": "code",
   "execution_count": null,
   "id": "4e7331c2-0349-4187-bb4b-bb50fc1582e3",
   "metadata": {},
   "outputs": [],
   "source": []
  }
 ],
 "metadata": {
  "kernelspec": {
   "display_name": "Python 3 (ipykernel)",
   "language": "python",
   "name": "python3"
  },
  "language_info": {
   "codemirror_mode": {
    "name": "ipython",
    "version": 3
   },
   "file_extension": ".py",
   "mimetype": "text/x-python",
   "name": "python",
   "nbconvert_exporter": "python",
   "pygments_lexer": "ipython3",
   "version": "3.11.8"
  }
 },
 "nbformat": 4,
 "nbformat_minor": 5
}
